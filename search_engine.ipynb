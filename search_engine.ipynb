{
 "cells": [
  {
   "cell_type": "code",
   "execution_count": 1,
   "metadata": {},
   "outputs": [],
   "source": [
    "# !pip install scikit-learn\n",
    "# !pip install ipython\n",
    "# !pip install line_profiler"
   ]
  },
  {
   "cell_type": "code",
   "execution_count": 2,
   "metadata": {},
   "outputs": [],
   "source": [
    "import numpy as np\n",
    "import pandas as pd\n",
    "import matplotlib.pyplot as plt\n",
    "\n",
    "from sklearn.feature_extraction.text import TfidfVectorizer\n",
    "from sklearn.metrics.pairwise import cosine_similarity, linear_kernel\n",
    "\n",
    "import time"
   ]
  },
  {
   "cell_type": "code",
   "execution_count": 3,
   "metadata": {},
   "outputs": [
    {
     "name": "stdout",
     "output_type": "stream",
     "text": [
      "Index(['adult', 'belongs_to_collection', 'budget', 'genres', 'homepage', 'id',\n",
      "       'imdb_id', 'original_language', 'original_title', 'overview',\n",
      "       'popularity', 'poster_path', 'production_companies',\n",
      "       'production_countries', 'release_date', 'revenue', 'runtime',\n",
      "       'spoken_languages', 'status', 'tagline', 'title', 'video',\n",
      "       'vote_average', 'vote_count'],\n",
      "      dtype='object')\n",
      "                                              genres  \\\n",
      "0  [{'id': 16, 'name': 'Animation'}, {'id': 35, '...   \n",
      "1  [{'id': 12, 'name': 'Adventure'}, {'id': 14, '...   \n",
      "2  [{'id': 10749, 'name': 'Romance'}, {'id': 35, ...   \n",
      "3  [{'id': 35, 'name': 'Comedy'}, {'id': 18, 'nam...   \n",
      "4                     [{'id': 35, 'name': 'Comedy'}]   \n",
      "\n",
      "                                            overview  \\\n",
      "0  Led by Woody, Andy's toys live happily in his ...   \n",
      "1  When siblings Judy and Peter discover an encha...   \n",
      "2  A family wedding reignites the ancient feud be...   \n",
      "3  Cheated on, mistreated and stepped on, the wom...   \n",
      "4  Just when George Banks has recovered from his ...   \n",
      "\n",
      "                                production_companies  runtime  \\\n",
      "0     [{'name': 'Pixar Animation Studios', 'id': 3}]     81.0   \n",
      "1  [{'name': 'TriStar Pictures', 'id': 559}, {'na...    104.0   \n",
      "2  [{'name': 'Warner Bros.', 'id': 6194}, {'name'...    101.0   \n",
      "3  [{'name': 'Twentieth Century Fox Film Corporat...    127.0   \n",
      "4  [{'name': 'Sandollar Productions', 'id': 5842}...    106.0   \n",
      "\n",
      "                         title  vote_average  vote_count  \n",
      "0                    Toy Story           7.7      5415.0  \n",
      "1                      Jumanji           6.9      2413.0  \n",
      "2             Grumpier Old Men           6.5        92.0  \n",
      "3            Waiting to Exhale           6.1        34.0  \n",
      "4  Father of the Bride Part II           5.7       173.0  \n"
     ]
    },
    {
     "name": "stderr",
     "output_type": "stream",
     "text": [
      "C:\\Users\\Patryk\\AppData\\Local\\Temp\\ipykernel_20816\\1662910060.py:4: DtypeWarning: Columns (10) have mixed types. Specify dtype option on import or set low_memory=False.\n",
      "  movies_df = pd.read_csv('movies_metadata.csv')\n"
     ]
    }
   ],
   "source": [
    "# TODO: doprecyzować typy kolumn.\n",
    "# DtypeWarning: Columns (10) have mixed types. Specify dtype option on import or set low_memory=False.\n",
    "\n",
    "movies_df = pd.read_csv('movies_metadata.csv')\n",
    "\n",
    "print(movies_df.columns)\n",
    "\n",
    "unnecessary_columns = [\n",
    "        'adult', 'belongs_to_collection', 'budget', 'homepage', 'id',\n",
    "        'imdb_id', 'original_language', 'original_title', 'popularity',\n",
    "        'poster_path', 'production_countries', 'release_date', 'revenue',\n",
    "        'spoken_languages', 'status', 'tagline', 'video',\n",
    "]\n",
    "\n",
    "movies_df.drop(unnecessary_columns, axis=1, inplace=True)\n",
    "\n",
    "print(movies_df.head())"
   ]
  },
  {
   "cell_type": "code",
   "execution_count": 4,
   "metadata": {},
   "outputs": [
    {
     "name": "stdout",
     "output_type": "stream",
     "text": [
      "Ilość wierszy: 45466\n",
      "Ilość kolumn: 2\n",
      "                         title  \\\n",
      "0                    Toy Story   \n",
      "1                      Jumanji   \n",
      "2             Grumpier Old Men   \n",
      "3            Waiting to Exhale   \n",
      "4  Father of the Bride Part II   \n",
      "\n",
      "                                            overview  \n",
      "0  Led by Woody, Andy's toys live happily in his ...  \n",
      "1  When siblings Judy and Peter discover an encha...  \n",
      "2  A family wedding reignites the ancient feud be...  \n",
      "3  Cheated on, mistreated and stepped on, the wom...  \n",
      "4  Just when George Banks has recovered from his ...  \n"
     ]
    }
   ],
   "source": [
    "# Utworzenie subsetu na podstawie pożądanych cech\n",
    "movies_subset = movies_df[['title', 'overview']].copy()\n",
    "print('Ilość wierszy: {}\\nIlość kolumn: {}'.format(*movies_subset.shape))\n",
    "print(movies_subset.head())"
   ]
  },
  {
   "cell_type": "code",
   "execution_count": 5,
   "metadata": {},
   "outputs": [
    {
     "name": "stdout",
     "output_type": "stream",
     "text": [
      "Ilość wierszy: 44506\n",
      "Ilość kolumn: 2\n"
     ]
    },
    {
     "data": {
      "image/png": "[encoded data removed]",
      "text/plain": [
       "<Figure size 640x480 with 1 Axes>"
      ]
     },
     "metadata": {},
     "output_type": "display_data"
    }
   ],
   "source": [
    "# numpy.array zawierający liczbę pustych wartości dla: 'title', 'overview'\n",
    "missing_vals_2remove = movies_subset.isna().sum().sort_values().to_numpy()\n",
    "\n",
    "# Nadpisujemy data frame wyrzucając przy tym puste wiersze\n",
    "movies_subset.dropna(inplace=True)\n",
    "print('Ilość wierszy: {}\\nIlość kolumn: {}'.format(*movies_subset.shape))\n",
    "\n",
    "missing_values = np.append(missing_vals_2remove,\n",
    "                           movies_subset.isna().sum().sort_values().to_numpy())\n",
    "\n",
    "x_labels = ['Przed czyszczeniem', 'Po czyszczeniu']\n",
    "progress_dict = {\n",
    "    'Tytuły': (missing_values[0], missing_values[2]),\n",
    "    'Opisy': (missing_values[1], missing_values[3])\n",
    "}\n",
    "\n",
    "x = np.arange(len(x_labels))\n",
    "width = 0.3\n",
    "multiplier = 0\n",
    "\n",
    "fig, ax = plt.subplots(layout='constrained')\n",
    "\n",
    "for attr, measurement in progress_dict.items():\n",
    "    offset = width * multiplier\n",
    "    rects = ax.bar(x + offset, measurement, width, label=attr)\n",
    "    ax.bar_label(rects, padding=2)\n",
    "    multiplier += 1\n",
    "\n",
    "ax.set_ylabel('Ilość brakujących wartości')\n",
    "ax.set_title('Efekt wstępnego przetworzenia danych')\n",
    "ax.set_xticks(x + width, x_labels)\n",
    "ax.legend(loc='upper right', ncols=2)\n",
    "\n",
    "plt.show()"
   ]
  },
  {
   "cell_type": "code",
   "execution_count": 6,
   "metadata": {},
   "outputs": [],
   "source": [
    "# Wektoryzator TfIdf (Term frequency-Inverse document frequency)\n",
    "vectorizer = TfidfVectorizer()\n",
    "\n",
    "tfidf_matrix = vectorizer.fit_transform(movies_subset['overview'].values)"
   ]
  },
  {
   "cell_type": "code",
   "execution_count": 7,
   "metadata": {},
   "outputs": [
    {
     "name": "stdout",
     "output_type": "stream",
     "text": [
      "Czas: 198.99643468856812\n",
      "Ilość wierszy: 44506\n",
      "Ilość kolumn: 44506\n",
      "[[1.         0.03069614 0.01283149 0.0147528  0.03077419]\n",
      " [0.03069614 1.         0.0567421  0.03878483 0.03758384]\n",
      " [0.01283149 0.0567421  1.         0.04494666 0.05664028]\n",
      " [0.0147528  0.03878483 0.04494666 1.         0.02794615]\n",
      " [0.03077419 0.03758384 0.05664028 0.02794615 1.        ]]\n"
     ]
    }
   ],
   "source": [
    "# TODO: mieerzenie czasu line_profilerem\n",
    "\n",
    "# Macierz stworzona przy użyciu 'cosine similarity'\n",
    "t1 = time.time()\n",
    "cosine_sim_matrix = cosine_similarity(tfidf_matrix, tfidf_matrix)\n",
    "t2 = time.time()\n",
    "print('Czas: {}s'.format(round((t2-t1), 2)))\n",
    "print('Ilość wierszy: {}\\nIlość kolumn: {}'.format(*cosine_sim_matrix.shape))\n",
    "\n",
    "# Macierz przedstawia kombinację podobieństwa wszystkich filmów (opisów)\n",
    "print(cosine_sim_matrix[:5, :5])"
   ]
  },
  {
   "cell_type": "code",
   "execution_count": 13,
   "metadata": {},
   "outputs": [
    {
     "name": "stdout",
     "output_type": "stream",
     "text": [
      "[[1.         0.03069614 0.01283149 0.0147528  0.03077419]\n",
      " [0.03069614 1.         0.0567421  0.03878483 0.03758384]\n",
      " [0.01283149 0.0567421  1.         0.04494666 0.05664028]\n",
      " [0.0147528  0.03878483 0.04494666 1.         0.02794615]\n",
      " [0.03077419 0.03758384 0.05664028 0.02794615 1.        ]]\n"
     ]
    }
   ],
   "source": [
    "# TODO: mieerzenie czasu line_profilerem\n",
    "\n",
    "# Macierz stworzona przy użyciu 'linear kernel'\n",
    "t1 = time.time()\n",
    "linear_kernel_matrix = linear_kernel(tfidf_matrix, tfidf_matrix)\n",
    "t2 = time.time()\n",
    "print('Czas: {}s'.format(round((t2-t1), 2)))\n",
    "print('Ilość wierszy: {}\\nIlość kolumn: {}'.format(*linear_kernel_matrix.shape))\n",
    "\n",
    "# Ta macierz również przedstawia kombinację podobieństwa wszystkich filmów (opisów)\n",
    "print(linear_kernel_matrix[:5, :5])"
   ]
  }
 ],
 "metadata": {
  "kernelspec": {
   "display_name": "Python 3",
   "language": "python",
   "name": "python3"
  },
  "language_info": {
   "codemirror_mode": {
    "name": "ipython",
    "version": 3
   },
   "file_extension": ".py",
   "mimetype": "text/x-python",
   "name": "python",
   "nbconvert_exporter": "python",
   "pygments_lexer": "ipython3",
   "version": "3.11.1"
  },
  "orig_nbformat": 4,
  "vscode": {
   "interpreter": {
    "hash": "d9b659d796194d7bf066133554ff4a37c156a9e0601c4411be528e92ad3c1b09"
   }
  }
 },
 "nbformat": 4,
 "nbformat_minor": 2
}
